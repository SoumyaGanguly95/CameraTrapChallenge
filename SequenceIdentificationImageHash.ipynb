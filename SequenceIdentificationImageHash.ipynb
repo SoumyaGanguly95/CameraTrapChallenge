{
 "cells": [
  {
   "cell_type": "code",
   "execution_count": null,
   "metadata": {},
   "outputs": [],
   "source": [
    "from PIL import Image\n",
    "import imagehash\n",
    "hash0 = imagehash.average_hash(Image.open('quora_photo.jpg')) \n",
    "hash1 = imagehash.average_hash(Image.open('twitter_photo.jpeg')) \n",
    "cutoff = 5  # maximum bits that could be different between the hashes. \n",
    "\n",
    "if hash0 - hash1 < cutoff:\n",
    "  print('images are similar')\n",
    "else:\n",
    "  print('images are not similar')"
   ]
  },
  {
   "cell_type": "code",
   "execution_count": null,
   "metadata": {},
   "outputs": [],
   "source": []
  },
  {
   "cell_type": "code",
   "execution_count": null,
   "metadata": {},
   "outputs": [],
   "source": []
  },
  {
   "cell_type": "code",
   "execution_count": null,
   "metadata": {},
   "outputs": [],
   "source": []
  },
  {
   "cell_type": "code",
   "execution_count": null,
   "metadata": {},
   "outputs": [],
   "source": []
  },
  {
   "cell_type": "code",
   "execution_count": null,
   "metadata": {},
   "outputs": [],
   "source": []
  }
 ],
 "metadata": {
  "kernelspec": {
   "display_name": "venv",
   "language": "python",
   "name": "python3"
  },
  "language_info": {
   "name": "python"
  },
  "orig_nbformat": 4,
  "vscode": {
   "interpreter": {
    "hash": "963ed58e5880c78c52b4bc726e139c3db27f7fd259bd0a3b2bf3e344a63057f0"
   }
  }
 },
 "nbformat": 4,
 "nbformat_minor": 2
}
