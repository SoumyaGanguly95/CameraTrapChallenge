version https://git-lfs.github.com/spec/v1
oid sha256:8722dc42b3e4b21a81de74d3672505496a9e83323b4f9fc59852ef1b29af9a6a
size 3581124
