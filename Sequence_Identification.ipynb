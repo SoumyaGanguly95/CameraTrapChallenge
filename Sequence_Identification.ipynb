{
 "cells": [
  {
   "cell_type": "code",
   "execution_count": 39,
   "metadata": {},
   "outputs": [],
   "source": [
    "from skimage.metrics import structural_similarity\n",
    "import os\n",
    "import cv2\n",
    "import matplotlib.pyplot as plt"
   ]
  },
  {
   "cell_type": "code",
   "execution_count": 40,
   "metadata": {},
   "outputs": [],
   "source": [
    "# Set the directory path\n",
    "directory = 'data/dama_dama_damhirsch_deer/dama_dama_damhirsch/demo'"
   ]
  },
  {
   "cell_type": "code",
   "execution_count": 41,
   "metadata": {},
   "outputs": [],
   "source": [
    "# Get a list of all files in the directory\n",
    "files = os.listdir(directory)"
   ]
  },
  {
   "cell_type": "code",
   "execution_count": 42,
   "metadata": {},
   "outputs": [],
   "source": [
    "# Image Processing\n",
    "scale_percent = 20\n",
    "grayscale = []\n",
    "for file in files:\n",
    "    # Check if the file is an image file\n",
    "    if file.endswith(('.JPG', '.jpg')):\n",
    "        # Read the image file using cv2.imread()\n",
    "        image = cv2.imread(os.path.join(directory, file))\n",
    "        gray = cv2.cvtColor(image, cv2.COLOR_BGR2GRAY)\n",
    "        width = int(gray.shape[1] * scale_percent / 100)\n",
    "        height = int(gray.shape[0] * scale_percent / 100)\n",
    "        dim = (width, height)\n",
    "        resized = cv2.resize(gray, dim, interpolation = cv2.INTER_AREA)\n",
    "        grayscale.append(resized)\n",
    "\n",
    "sequences = []\n",
    "gray_seq = []"
   ]
  },
  {
   "cell_type": "code",
   "execution_count": 43,
   "metadata": {},
   "outputs": [],
   "source": [
    "for i in range(len(files)):\n",
    "    seq = {files[i]}\n",
    "    gseq = [grayscale[i]]\n",
    "    for j in range(len(files)):\n",
    "        ssim = structural_similarity(grayscale[i], grayscale[j])\n",
    "        if ssim > 0.6 and i!=j:\n",
    "            seq.add(files[j])\n",
    "            gseq.append(grayscale[j])\n",
    "    sequences.append(seq)\n",
    "    gray_seq.append(gseq)    \n",
    "\n",
    "result_file_name = list()\n",
    "for item in sequences:\n",
    "    if item not in result_file_name:\n",
    "        result_file_name.append(item)\n",
    "coherant_seq = result_file_name"
   ]
  },
  {
   "cell_type": "code",
   "execution_count": 44,
   "metadata": {},
   "outputs": [],
   "source": [
    "cs_image = []\n",
    "i = 0\n",
    "for segment in coherant_seq:\n",
    "    add_images = []\n",
    "    for file in coherant_seq[i]:\n",
    "        if file.endswith(('.JPG', '.jpg')):\n",
    "            image = cv2.imread(os.path.join(directory, file))\n",
    "            width = int(image.shape[1] * scale_percent / 100)\n",
    "            height = int(image.shape[0] * scale_percent / 100)\n",
    "            dim = (width, height)\n",
    "            resized = cv2.resize(image, dim, interpolation = cv2.INTER_AREA)\n",
    "            add_images.append(resized)\n",
    "    i+=1\n",
    "    cs_image.append(add_images)"
   ]
  },
  {
   "cell_type": "code",
   "execution_count": 45,
   "metadata": {},
   "outputs": [
    {
     "name": "stdout",
     "output_type": "stream",
     "text": [
      "8\n"
     ]
    }
   ],
   "source": [
    "print(i)"
   ]
  }
 ],
 "metadata": {
  "kernelspec": {
   "display_name": "venv",
   "language": "python",
   "name": "python3"
  },
  "language_info": {
   "codemirror_mode": {
    "name": "ipython",
    "version": 3
   },
   "file_extension": ".py",
   "mimetype": "text/x-python",
   "name": "python",
   "nbconvert_exporter": "python",
   "pygments_lexer": "ipython3",
   "version": "3.9.13"
  },
  "orig_nbformat": 4,
  "vscode": {
   "interpreter": {
    "hash": "963ed58e5880c78c52b4bc726e139c3db27f7fd259bd0a3b2bf3e344a63057f0"
   }
  }
 },
 "nbformat": 4,
 "nbformat_minor": 2
}
